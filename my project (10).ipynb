{
 "cells": [
  {
   "cell_type": "markdown",
   "metadata": {},
   "source": [
    "# Capstone Project - Car accident severity \n",
    "# 1. Introduction Section : \n",
    "\n",
    "# 1.1 Scenario and Background\n",
    "\n",
    "The number of people killed on German roads has fallen to its lowest level since the founding of the federal republic more than 60 years ago.\n",
    "According to data released on Friday by Germany's Federal Statistics Office (Destatis), 3,214 people were killed in car accidents in 2016. That's 245 fewer recorded deaths than the year before, a fall of 7.1 percent.\n",
    "However, the figures do not suggest that Germany's roads are safer as 2016 saw the most accidents nationwide with some 2.6 million incidents recorded, almost 3 percent higher than the year before and the highest since German reunification.\n",
    "Some 308,200 of those accidents resulted in deaths or injuries, while the overall number of traffic injuries in 2016 jumped by 0.8 percent to 396,700.\n",
    "\n",
    "# 1.2 Problem to be resolved:\n",
    " \n",
    "The initial phase is to understand the project's objective from the business or application perspective. Then, you need to translate this knowledge into a machine learning problem with a preliminary plan to achieve the objectives.\n",
    "\n",
    "In this part I want to focuse on collision-based identification of high risk locations, a process that is known as accident investigation, or the treatment of ‘blackspots’ where it is the most possibility to happen an accident.\n",
    "The term ‘sites with potential for safety improvement’ is also used, as approach involves selecting locations that have high potential for reductions in collisions through the safety improvements.\n",
    "The approach relies on collision analyses to first identify safety problems before an accident have occurred. \n",
    "\n",
    "Reactive approaches typically include the following steps:\n",
    "•\tidentifying the collision location;\n",
    "•\tdiagnosing the contributing factors and leading collision types for each collision location identified;\n",
    "•\tselecting the appropriate countermeasures that match the problems identified;\n",
    "•\tdesigning the treatment;\n",
    "•\tjustifying the expenditure through economic analysis;\n",
    "•\timplementing the treatment;\n",
    "•\tmonitoring, analysis and evaluating its effectiveness.\n",
    "\n",
    "\n",
    "As indicated above , reliance solely on collision data produce situations where only a small proportion of accident severity can potentially be addressed. For this reason, it is recommended that a combination of collision data and other influencing  sources be used to assess and treat risk.\n",
    "\n",
    "\n",
    "# 1.3 Interested Audience\n",
    "\n",
    "I believe this is a relevant project for a person that want to prevent from happening accident in Us, since the approach and methodologies used here are applicable in all cases. The use of FourSquare data and mapping techniques combined with data analysis will help resolve the key questions arisen. Lastly, this project is a good practical case toward the development of Data Science skills.\n",
    "\n",
    "\n",
    "# 2. Data Section:\n",
    "\n",
    "# 2.1  Data sources\n",
    "\n",
    "In order to treat the occurrence of collisions , corresponding  data is needed to provide necessary information to road authorities. Further information on the collection and use of these data can be found in several sources:\n",
    "\n",
    "Kaggle.com\n",
    "Datasetsearch.research.google.com\n",
    "Data.gov.uk\n",
    "Europeandataportal.eu\n",
    "Statista.com\n",
    "\n",
    " Issues relating to the need for good quality data are also discussed in that chapter. To ensure adequate data quality, the data should be accurate, complex (i.e. includes all features), available (i.e. accessible to all users), and uniform (i.e. adheres to standard definitions) (PIARC, 2013).\n",
    "The primary data source for crash reduction initiatives, especially those undertaken by road engineers, is typically police crash reports. This data should provide crucial information, which at a minimum should include the crash severity and the number of each injury severity type (i.e. fatal, serious, minor, etc.). Other important information to collect includes (PIARC 2013):\n",
    "•\tcrash identification number;\n",
    "•\tinformation about the crash site (e.g. an accurate location);\n",
    "•\tthe occurrence of events that resulted in the crash (e.g. the crash type) ;\n",
    "•\tinformation on those involved (gender, age, road user type, whether alcohol was involved, use of seatbelts, etc.);\n",
    "•\tweather and lighting conditions;\n",
    "•\tvehicles involved;\n",
    "•\ttime of day, day of week, and date.\n",
    "\n",
    "# 2.2 Data Required to resolve the problem(data cleaning)\n",
    "\n",
    "To understand and explore the most important factors causing different severity of accident we will need the following Open Data:\n",
    "Using this data will allow exploration and examination to answer the questions came in problem section , for this reason we should clean datasets to get required data to resolve the problem that is include:\n",
    "Collision Reference\n",
    "Collision Severity\n",
    "Day of Collision\n",
    "Month of Collision\n",
    "Hour of Collision (24 hour)\n",
    "Carriageway Type\n",
    "Speed Limit\n",
    "Weather Conditions\n",
    "Road Surface Conditions\n",
    "\n",
    "Data downloaded or scraped from multiple sources were combined into one table. There were a lot of missing values from some required data such as vehicles involved or day of week or collision severity, because of lack of record keeping. I decided to only use data from \n",
    "https://www.kaggle.com/mohitpote/collision-severity-accidents?select=collision_no.csv\n",
    "Because this dataset have all required data as were explained and because of later parts have fewer missing values .Therefor I've downloaded the dataset as csv and improted the file.\n",
    "\n",
    "# 2.3 How the data will be used to solve the problem\n",
    "(Feature selection)\n",
    "\n",
    "The collision data will enable us to predict group accident and severity of accident by applying supervised algorithm .The main data which can obviously predict:\n",
    "\n",
    "collision type variables can be used to describe the type of the crashes in terms of parties involved, collision and vehicle/pedestrian manoeuvre just before the crash. Each variablethat is coded, describes the single specific crash type. In collisions where more than one type can be applicable, the corresponding number of variables should be selected.\n",
    "\n",
    "\n",
    "\n",
    "# 3. Methodology section:\n",
    "\n",
    "This section represents the main component of the report where the data is gathered, prepared for analysis. The tools described are used here and the Notebook cells indicates the execution of steps.\n",
    "The strategy is based on mapping the above described data in section 2.\n",
    "The procesing of these DATA and its mapping will allow to answer the key questions to make a decision:\n",
    "\n",
    "•\tWhere collisions happen most likely? (Carriageway and policing area)\n",
    "•\tWhen collisions happen most likely? (month, day, hour)\n",
    "•\tWhat speeds cause accident with variable severity?\n",
    "•\tWhat conditions of weather, road, special at site affect collisions?\n",
    "All steps are referenced beleow in the Appendix: Analysis section.\n",
    "The methodology will include:\n",
    "1.\tLoad dataset\n",
    "2.\tCalculation of target variable.I determine dependent variable as predictors such as:\n",
    "        Day of Collision , Month of Collision , Hour of Collision (24 hour) , Carriageway Type,\n",
    "        Speed Limit , Weather Conditions , Road Surface Conditions , Vehicle_type .\n",
    "        They are used in calculating of train-data, test-data randomly and Collision Severity is specified  \n",
    "        as predictable value. \n",
    "\n",
    "3.\tStudy the collisions types and then analyze them\n",
    "4.\tPerform the most main classification algorithm :KNeighborsClassifier, DecisionTreeClassifier , SVC , LogisticRegression statisical , Random Forest Classification\n",
    "    analysis on train-data \n",
    "5.\tExamine to visualize correlations between the collisions and target data\n",
    "6.\tPredict severity of collisions based on different attributes\n",
    "7.\tTo identify performance of each model Calculation of accuracy for each statisical analysis\n",
    "\n",
    "\n",
    "\n",
    "# Results and Discussion\n",
    "\n",
    "Assuming the classification algorithms it was noticed that they have an accuracy 0.89 which is  a good value for the proposed problem.\n",
    "While there were instances these model had a same accu-racy, a confusion matrix created using Matplotlib of the results demonstrated allinputs were automatically placed into one section. In other words, the machinecould  determine underlying relations between the inputs that lead to a classiﬁcation. \n",
    "\n",
    "\n",
    "# Conclusion \n",
    "\n",
    "Finally, the prediction will be indicated using the KNeighborsClassifier, DecisionTreeClassifier , SVC , LogisticRegression statisical , Random Forest Classification which obtained an accuracy of 89.75%..\n",
    "\n",
    "\n",
    "\n",
    "\n",
    " \n",
    "\n",
    "\n",
    "\n",
    "\n"
   ]
  },
  {
   "cell_type": "markdown",
   "metadata": {},
   "source": [
    "# Appendix: Analysis section"
   ]
  },
  {
   "cell_type": "markdown",
   "metadata": {},
   "source": [
    "# Load dataset"
   ]
  },
  {
   "cell_type": "code",
   "execution_count": 28,
   "metadata": {},
   "outputs": [],
   "source": [
    "import pandas as pd\n",
    "import numpy as np\n",
    "import seaborn as sns\n",
    "\n",
    "from sklearn import (svm, preprocessing)\n",
    "from sklearn.preprocessing import LabelEncoder\n",
    "from sklearn.model_selection import train_test_split\n",
    "from sklearn.metrics import (recall_score, precision_score, accuracy_score, confusion_matrix)\n",
    "from sklearn.ensemble import RandomForestClassifier\n",
    "\n",
    "from sklearn.linear_model import LogisticRegression\n",
    "from sklearn.svm import SVC\n",
    "from sklearn.neighbors import KNeighborsClassifier\n",
    "from sklearn.tree import DecisionTreeClassifier\n",
    "\n",
    "import warnings\n",
    "warnings.filterwarnings(\"ignore\")\n",
    "\n",
    "import matplotlib.pyplot as plt\n",
    "\n",
    "\n",
    "import collections\n",
    "from sklearn.decomposition import PCA"
   ]
  },
  {
   "cell_type": "code",
   "execution_count": 97,
   "metadata": {},
   "outputs": [
    {
     "data": {
      "text/html": [
       "<div>\n",
       "<style scoped>\n",
       "    .dataframe tbody tr th:only-of-type {\n",
       "        vertical-align: middle;\n",
       "    }\n",
       "\n",
       "    .dataframe tbody tr th {\n",
       "        vertical-align: top;\n",
       "    }\n",
       "\n",
       "    .dataframe thead th {\n",
       "        text-align: right;\n",
       "    }\n",
       "</style>\n",
       "<table border=\"1\" class=\"dataframe\">\n",
       "  <thead>\n",
       "    <tr style=\"text-align: right;\">\n",
       "      <th></th>\n",
       "      <th>Collision Reference No.</th>\n",
       "      <th>Policing Area</th>\n",
       "      <th>Collision Severity</th>\n",
       "      <th>Weekday of Collision</th>\n",
       "      <th>Day of Collision</th>\n",
       "      <th>Month of Collision</th>\n",
       "      <th>Hour of Collision (24 hour)</th>\n",
       "      <th>Carriageway Type</th>\n",
       "      <th>Speed Limit</th>\n",
       "      <th>Junction Detail</th>\n",
       "      <th>Junction Control</th>\n",
       "      <th>Pedestrian Crossing – Human Control</th>\n",
       "      <th>Pedestrian Crossing – Physical Control</th>\n",
       "      <th>Light Conditions</th>\n",
       "      <th>Weather Conditions</th>\n",
       "      <th>Road Surface Conditions</th>\n",
       "      <th>Special Conditions at Site</th>\n",
       "    </tr>\n",
       "  </thead>\n",
       "  <tbody>\n",
       "    <tr>\n",
       "      <th>0</th>\n",
       "      <td>3518</td>\n",
       "      <td>CREA</td>\n",
       "      <td>3</td>\n",
       "      <td>MON</td>\n",
       "      <td>4</td>\n",
       "      <td>8</td>\n",
       "      <td>14.0</td>\n",
       "      <td>13</td>\n",
       "      <td>60</td>\n",
       "      <td>1.0</td>\n",
       "      <td>1.0</td>\n",
       "      <td>1.0</td>\n",
       "      <td>1.0</td>\n",
       "      <td>2</td>\n",
       "      <td>9</td>\n",
       "      <td>9.0</td>\n",
       "      <td>1.0</td>\n",
       "    </tr>\n",
       "    <tr>\n",
       "      <th>1</th>\n",
       "      <td>10557</td>\n",
       "      <td>BELC</td>\n",
       "      <td>3</td>\n",
       "      <td>SAT</td>\n",
       "      <td>8</td>\n",
       "      <td>8</td>\n",
       "      <td>17.0</td>\n",
       "      <td>11</td>\n",
       "      <td>50</td>\n",
       "      <td>12.0</td>\n",
       "      <td>7.0</td>\n",
       "      <td>1.0</td>\n",
       "      <td>1.0</td>\n",
       "      <td>4</td>\n",
       "      <td>3</td>\n",
       "      <td>1.0</td>\n",
       "      <td>1.0</td>\n",
       "    </tr>\n",
       "    <tr>\n",
       "      <th>2</th>\n",
       "      <td>5002</td>\n",
       "      <td>LISB</td>\n",
       "      <td>3</td>\n",
       "      <td>WED</td>\n",
       "      <td>5</td>\n",
       "      <td>11</td>\n",
       "      <td>17.0</td>\n",
       "      <td>1</td>\n",
       "      <td>60</td>\n",
       "      <td>12.0</td>\n",
       "      <td>7.0</td>\n",
       "      <td>1.0</td>\n",
       "      <td>1.0</td>\n",
       "      <td>2</td>\n",
       "      <td>2</td>\n",
       "      <td>2.0</td>\n",
       "      <td>1.0</td>\n",
       "    </tr>\n",
       "    <tr>\n",
       "      <th>3</th>\n",
       "      <td>11714</td>\n",
       "      <td>BELC</td>\n",
       "      <td>3</td>\n",
       "      <td>SUN</td>\n",
       "      <td>18</td>\n",
       "      <td>10</td>\n",
       "      <td>16.0</td>\n",
       "      <td>12</td>\n",
       "      <td>70</td>\n",
       "      <td>6.0</td>\n",
       "      <td>NaN</td>\n",
       "      <td>1.0</td>\n",
       "      <td>1.0</td>\n",
       "      <td>1</td>\n",
       "      <td>3</td>\n",
       "      <td>1.0</td>\n",
       "      <td>1.0</td>\n",
       "    </tr>\n",
       "    <tr>\n",
       "      <th>4</th>\n",
       "      <td>12416</td>\n",
       "      <td>MIDU</td>\n",
       "      <td>3</td>\n",
       "      <td>MON</td>\n",
       "      <td>23</td>\n",
       "      <td>11</td>\n",
       "      <td>9.0</td>\n",
       "      <td>13</td>\n",
       "      <td>60</td>\n",
       "      <td>6.0</td>\n",
       "      <td>7.0</td>\n",
       "      <td>1.0</td>\n",
       "      <td>1.0</td>\n",
       "      <td>2</td>\n",
       "      <td>3</td>\n",
       "      <td>1.0</td>\n",
       "      <td>1.0</td>\n",
       "    </tr>\n",
       "    <tr>\n",
       "      <th>...</th>\n",
       "      <td>...</td>\n",
       "      <td>...</td>\n",
       "      <td>...</td>\n",
       "      <td>...</td>\n",
       "      <td>...</td>\n",
       "      <td>...</td>\n",
       "      <td>...</td>\n",
       "      <td>...</td>\n",
       "      <td>...</td>\n",
       "      <td>...</td>\n",
       "      <td>...</td>\n",
       "      <td>...</td>\n",
       "      <td>...</td>\n",
       "      <td>...</td>\n",
       "      <td>...</td>\n",
       "      <td>...</td>\n",
       "      <td>...</td>\n",
       "    </tr>\n",
       "    <tr>\n",
       "      <th>10392</th>\n",
       "      <td>7785</td>\n",
       "      <td>FERO</td>\n",
       "      <td>3</td>\n",
       "      <td>WED</td>\n",
       "      <td>18</td>\n",
       "      <td>2</td>\n",
       "      <td>17.0</td>\n",
       "      <td>13</td>\n",
       "      <td>50</td>\n",
       "      <td>1.0</td>\n",
       "      <td>1.0</td>\n",
       "      <td>1.0</td>\n",
       "      <td>1.0</td>\n",
       "      <td>3</td>\n",
       "      <td>9</td>\n",
       "      <td>1.0</td>\n",
       "      <td>1.0</td>\n",
       "    </tr>\n",
       "    <tr>\n",
       "      <th>10393</th>\n",
       "      <td>11990</td>\n",
       "      <td>ARBC</td>\n",
       "      <td>3</td>\n",
       "      <td>TUE</td>\n",
       "      <td>3</td>\n",
       "      <td>11</td>\n",
       "      <td>8.0</td>\n",
       "      <td>13</td>\n",
       "      <td>40</td>\n",
       "      <td>1.0</td>\n",
       "      <td>1.0</td>\n",
       "      <td>1.0</td>\n",
       "      <td>1.0</td>\n",
       "      <td>3</td>\n",
       "      <td>10</td>\n",
       "      <td>1.0</td>\n",
       "      <td>1.0</td>\n",
       "    </tr>\n",
       "    <tr>\n",
       "      <th>10394</th>\n",
       "      <td>9817</td>\n",
       "      <td>ANTN</td>\n",
       "      <td>3</td>\n",
       "      <td>SUN</td>\n",
       "      <td>21</td>\n",
       "      <td>6</td>\n",
       "      <td>16.0</td>\n",
       "      <td>13</td>\n",
       "      <td>40</td>\n",
       "      <td>12.0</td>\n",
       "      <td>7.0</td>\n",
       "      <td>1.0</td>\n",
       "      <td>1.0</td>\n",
       "      <td>1</td>\n",
       "      <td>10</td>\n",
       "      <td>2.0</td>\n",
       "      <td>1.0</td>\n",
       "    </tr>\n",
       "    <tr>\n",
       "      <th>10395</th>\n",
       "      <td>7532</td>\n",
       "      <td>NEMD</td>\n",
       "      <td>3</td>\n",
       "      <td>TUE</td>\n",
       "      <td>3</td>\n",
       "      <td>2</td>\n",
       "      <td>21.0</td>\n",
       "      <td>13</td>\n",
       "      <td>60</td>\n",
       "      <td>10.0</td>\n",
       "      <td>7.0</td>\n",
       "      <td>1.0</td>\n",
       "      <td>1.0</td>\n",
       "      <td>6</td>\n",
       "      <td>3</td>\n",
       "      <td>2.0</td>\n",
       "      <td>1.0</td>\n",
       "    </tr>\n",
       "    <tr>\n",
       "      <th>10396</th>\n",
       "      <td>187</td>\n",
       "      <td>NABB</td>\n",
       "      <td>3</td>\n",
       "      <td>SUN</td>\n",
       "      <td>12</td>\n",
       "      <td>1</td>\n",
       "      <td>19.0</td>\n",
       "      <td>1</td>\n",
       "      <td>30</td>\n",
       "      <td>1.0</td>\n",
       "      <td>1.0</td>\n",
       "      <td>1.0</td>\n",
       "      <td>2.0</td>\n",
       "      <td>5</td>\n",
       "      <td>1</td>\n",
       "      <td>1.0</td>\n",
       "      <td>1.0</td>\n",
       "    </tr>\n",
       "  </tbody>\n",
       "</table>\n",
       "<p>10397 rows × 17 columns</p>\n",
       "</div>"
      ],
      "text/plain": [
       "       Collision Reference No. Policing Area  Collision Severity  \\\n",
       "0                         3518          CREA                   3   \n",
       "1                        10557          BELC                   3   \n",
       "2                         5002          LISB                   3   \n",
       "3                        11714          BELC                   3   \n",
       "4                        12416          MIDU                   3   \n",
       "...                        ...           ...                 ...   \n",
       "10392                     7785          FERO                   3   \n",
       "10393                    11990          ARBC                   3   \n",
       "10394                     9817          ANTN                   3   \n",
       "10395                     7532          NEMD                   3   \n",
       "10396                      187          NABB                   3   \n",
       "\n",
       "      Weekday of Collision  Day of Collision  Month of Collision  \\\n",
       "0                      MON                 4                   8   \n",
       "1                      SAT                 8                   8   \n",
       "2                      WED                 5                  11   \n",
       "3                      SUN                18                  10   \n",
       "4                      MON                23                  11   \n",
       "...                    ...               ...                 ...   \n",
       "10392                  WED                18                   2   \n",
       "10393                  TUE                 3                  11   \n",
       "10394                  SUN                21                   6   \n",
       "10395                  TUE                 3                   2   \n",
       "10396                  SUN                12                   1   \n",
       "\n",
       "       Hour of Collision (24 hour)  Carriageway Type  Speed Limit  \\\n",
       "0                             14.0                13           60   \n",
       "1                             17.0                11           50   \n",
       "2                             17.0                 1           60   \n",
       "3                             16.0                12           70   \n",
       "4                              9.0                13           60   \n",
       "...                            ...               ...          ...   \n",
       "10392                         17.0                13           50   \n",
       "10393                          8.0                13           40   \n",
       "10394                         16.0                13           40   \n",
       "10395                         21.0                13           60   \n",
       "10396                         19.0                 1           30   \n",
       "\n",
       "       Junction Detail  Junction Control  Pedestrian Crossing – Human Control  \\\n",
       "0                  1.0               1.0                                  1.0   \n",
       "1                 12.0               7.0                                  1.0   \n",
       "2                 12.0               7.0                                  1.0   \n",
       "3                  6.0               NaN                                  1.0   \n",
       "4                  6.0               7.0                                  1.0   \n",
       "...                ...               ...                                  ...   \n",
       "10392              1.0               1.0                                  1.0   \n",
       "10393              1.0               1.0                                  1.0   \n",
       "10394             12.0               7.0                                  1.0   \n",
       "10395             10.0               7.0                                  1.0   \n",
       "10396              1.0               1.0                                  1.0   \n",
       "\n",
       "       Pedestrian Crossing – Physical Control  Light Conditions  \\\n",
       "0                                         1.0                 2   \n",
       "1                                         1.0                 4   \n",
       "2                                         1.0                 2   \n",
       "3                                         1.0                 1   \n",
       "4                                         1.0                 2   \n",
       "...                                       ...               ...   \n",
       "10392                                     1.0                 3   \n",
       "10393                                     1.0                 3   \n",
       "10394                                     1.0                 1   \n",
       "10395                                     1.0                 6   \n",
       "10396                                     2.0                 5   \n",
       "\n",
       "       Weather Conditions  Road Surface Conditions  Special Conditions at Site  \n",
       "0                       9                      9.0                         1.0  \n",
       "1                       3                      1.0                         1.0  \n",
       "2                       2                      2.0                         1.0  \n",
       "3                       3                      1.0                         1.0  \n",
       "4                       3                      1.0                         1.0  \n",
       "...                   ...                      ...                         ...  \n",
       "10392                   9                      1.0                         1.0  \n",
       "10393                  10                      1.0                         1.0  \n",
       "10394                  10                      2.0                         1.0  \n",
       "10395                   3                      2.0                         1.0  \n",
       "10396                   1                      1.0                         1.0  \n",
       "\n",
       "[10397 rows x 17 columns]"
      ]
     },
     "execution_count": 97,
     "metadata": {},
     "output_type": "execute_result"
    }
   ],
   "source": [
    "#laod and read dataset\n",
    "path=\"C:\\\\Users\\\\msaja\\\\Desktop\\\\dataset.csv\"\n",
    "df=pd.read_csv(path)\n",
    "df"
   ]
  },
  {
   "cell_type": "code",
   "execution_count": 98,
   "metadata": {},
   "outputs": [
    {
     "data": {
      "text/plain": [
       "Collision Reference No.                     0\n",
       "Policing Area                             343\n",
       "Collision Severity                          0\n",
       "Weekday of Collision                        0\n",
       "Day of Collision                            0\n",
       "Month of Collision                          0\n",
       "Hour of Collision (24 hour)               306\n",
       "Carriageway Type                            0\n",
       "Speed Limit                                 0\n",
       "Junction Detail                           308\n",
       "Junction Control                          310\n",
       "Pedestrian Crossing – Human Control       331\n",
       "Pedestrian Crossing – Physical Control    309\n",
       "Light Conditions                            0\n",
       "Weather Conditions                          0\n",
       "Road Surface Conditions                   317\n",
       "Special Conditions at Site                302\n",
       "dtype: int64"
      ]
     },
     "execution_count": 98,
     "metadata": {},
     "output_type": "execute_result"
    }
   ],
   "source": [
    "#Missing values for each column\n",
    "df.isnull().sum()\n"
   ]
  },
  {
   "cell_type": "markdown",
   "metadata": {},
   "source": [
    "As a result,We don't have any null object."
   ]
  },
  {
   "cell_type": "code",
   "execution_count": 99,
   "metadata": {},
   "outputs": [
    {
     "name": "stdout",
     "output_type": "stream",
     "text": [
      "<class 'pandas.core.frame.DataFrame'>\n",
      "RangeIndex: 10397 entries, 0 to 10396\n",
      "Data columns (total 17 columns):\n",
      " #   Column                                  Non-Null Count  Dtype  \n",
      "---  ------                                  --------------  -----  \n",
      " 0   Collision Reference No.                 10397 non-null  int64  \n",
      " 1   Policing Area                           10054 non-null  object \n",
      " 2   Collision Severity                      10397 non-null  int64  \n",
      " 3   Weekday of Collision                    10397 non-null  object \n",
      " 4   Day of Collision                        10397 non-null  int64  \n",
      " 5   Month of Collision                      10397 non-null  int64  \n",
      " 6   Hour of Collision (24 hour)             10091 non-null  float64\n",
      " 7   Carriageway Type                        10397 non-null  int64  \n",
      " 8   Speed Limit                             10397 non-null  int64  \n",
      " 9   Junction Detail                         10089 non-null  float64\n",
      " 10  Junction Control                        10087 non-null  float64\n",
      " 11  Pedestrian Crossing – Human Control     10066 non-null  float64\n",
      " 12  Pedestrian Crossing – Physical Control  10088 non-null  float64\n",
      " 13  Light Conditions                        10397 non-null  int64  \n",
      " 14  Weather Conditions                      10397 non-null  int64  \n",
      " 15  Road Surface Conditions                 10080 non-null  float64\n",
      " 16  Special Conditions at Site              10095 non-null  float64\n",
      "dtypes: float64(7), int64(8), object(2)\n",
      "memory usage: 1.3+ MB\n"
     ]
    }
   ],
   "source": [
    "#all of attributes and corresponding data \n",
    "\n",
    "df.info()"
   ]
  },
  {
   "cell_type": "code",
   "execution_count": 176,
   "metadata": {},
   "outputs": [],
   "source": [
    "# faeture selection , requred data\n",
    "#df=df.drop(['Junction Detail','Junction Control','Pedestrian Crossing – Human Control','Pedestrian Crossing – Physical Control'],axis=1)\n",
    "#df"
   ]
  },
  {
   "cell_type": "code",
   "execution_count": 177,
   "metadata": {},
   "outputs": [
    {
     "name": "stdout",
     "output_type": "stream",
     "text": [
      "<class 'pandas.core.frame.DataFrame'>\n",
      "RangeIndex: 10397 entries, 0 to 10396\n",
      "Data columns (total 13 columns):\n",
      " #   Column                       Non-Null Count  Dtype  \n",
      "---  ------                       --------------  -----  \n",
      " 0   Collision Reference No.      10397 non-null  int64  \n",
      " 1   Policing Area                10397 non-null  int32  \n",
      " 2   Collision Severity           10397 non-null  int64  \n",
      " 3   Weekday of Collision         10397 non-null  int64  \n",
      " 4   Day of Collision             10397 non-null  int64  \n",
      " 5   Month of Collision           10397 non-null  int64  \n",
      " 6   Hour of Collision (24 hour)  10397 non-null  float64\n",
      " 7   Carriageway Type             10397 non-null  int64  \n",
      " 8   Speed Limit                  10397 non-null  int64  \n",
      " 9   Light Conditions             10397 non-null  int64  \n",
      " 10  Weather Conditions           10397 non-null  int64  \n",
      " 11  Road Surface Conditions      10397 non-null  float64\n",
      " 12  Special Conditions at Site   10397 non-null  float64\n",
      "dtypes: float64(3), int32(1), int64(9)\n",
      "memory usage: 1015.5 KB\n"
     ]
    }
   ],
   "source": [
    "df.info()"
   ]
  },
  {
   "cell_type": "markdown",
   "metadata": {},
   "source": [
    "# Data Visualization and Analysis(Calculation of target variable)"
   ]
  },
  {
   "cell_type": "code",
   "execution_count": 178,
   "metadata": {},
   "outputs": [
    {
     "data": {
      "text/plain": [
       "3    9282\n",
       "2     993\n",
       "1     122\n",
       "Name: Collision Severity, dtype: int64"
      ]
     },
     "execution_count": 178,
     "metadata": {},
     "output_type": "execute_result"
    }
   ],
   "source": [
    "#number of different severity\n",
    "df[\"Collision Severity\"].value_counts()"
   ]
  },
  {
   "cell_type": "markdown",
   "metadata": {},
   "source": [
    "\n",
    "we can easily explore data using visualization techniques\n"
   ]
  },
  {
   "cell_type": "code",
   "execution_count": 179,
   "metadata": {},
   "outputs": [
    {
     "data": {
      "image/png": "[encoded data removed]",
      "text/plain": [
       "<Figure size 2160x1440 with 16 Axes>"
      ]
     },
     "metadata": {
      "needs_background": "light"
     },
     "output_type": "display_data"
    }
   ],
   "source": [
    "df.hist(figsize=(30,20))\n",
    "plt.show()"
   ]
  },
  {
   "cell_type": "code",
   "execution_count": 180,
   "metadata": {},
   "outputs": [],
   "source": [
    "from sklearn.preprocessing import LabelEncoder\n",
    "le = LabelEncoder()\n",
    "\n",
    "# lable encoder for data_train\n",
    "\n",
    "le.fit(df['Weekday of Collision'])\n",
    "df['Weekday of Collision'] = le.transform(df['Weekday of Collision'])\n",
    "le.fit(df['Policing Area'].astype(str))\n",
    "df['Policing Area'] = le.transform(df['Policing Area'].astype(str))"
   ]
  },
  {
   "cell_type": "code",
   "execution_count": 181,
   "metadata": {},
   "outputs": [],
   "source": [
    "df = df.fillna(df.median())\n"
   ]
  },
  {
   "cell_type": "code",
   "execution_count": 182,
   "metadata": {},
   "outputs": [
    {
     "data": {
      "text/plain": [
       "array([[3.52e+03, 1.10e+01, 1.00e+00, 4.00e+00, 8.00e+00, 1.40e+01,\n",
       "        1.30e+01, 6.00e+01, 2.00e+00, 9.00e+00, 9.00e+00, 1.00e+00],\n",
       "       [1.06e+04, 3.80e+01, 2.00e+00, 8.00e+00, 8.00e+00, 1.70e+01,\n",
       "        1.10e+01, 5.00e+01, 4.00e+00, 3.00e+00, 1.00e+00, 1.00e+00],\n",
       "       [5.00e+03, 2.10e+01, 6.00e+00, 5.00e+00, 1.10e+01, 1.70e+01,\n",
       "        1.00e+00, 6.00e+01, 2.00e+00, 2.00e+00, 2.00e+00, 1.00e+00],\n",
       "       [1.17e+04, 3.80e+01, 3.00e+00, 1.80e+01, 1.00e+01, 1.60e+01,\n",
       "        1.20e+01, 7.00e+01, 1.00e+00, 3.00e+00, 1.00e+00, 1.00e+00],\n",
       "       [1.24e+04, 2.60e+01, 1.00e+00, 2.30e+01, 1.10e+01, 9.00e+00,\n",
       "        1.30e+01, 6.00e+01, 2.00e+00, 3.00e+00, 1.00e+00, 1.00e+00]])"
      ]
     },
     "execution_count": 182,
     "metadata": {},
     "output_type": "execute_result"
    }
   ],
   "source": [
    "X = df[['Collision Reference No.','Policing Area','Weekday of Collision','Day of Collision','Month of Collision','Hour of Collision (24 hour)'\n",
    "        ,'Carriageway Type','Speed Limit','Light Conditions','Weather Conditions','Road Surface Conditions','Special Conditions at Site']] .values  #.astype(float)\n",
    "X[0:5]"
   ]
  },
  {
   "cell_type": "code",
   "execution_count": 183,
   "metadata": {},
   "outputs": [
    {
     "data": {
      "text/plain": [
       "array([3, 3, 3, 3, 3], dtype=int64)"
      ]
     },
     "execution_count": 183,
     "metadata": {},
     "output_type": "execute_result"
    }
   ],
   "source": [
    "y=df['Collision Severity'].values\n",
    "y[0:5]"
   ]
  },
  {
   "cell_type": "markdown",
   "metadata": {},
   "source": [
    "Normalize Data:"
   ]
  },
  {
   "cell_type": "code",
   "execution_count": 184,
   "metadata": {},
   "outputs": [
    {
     "data": {
      "text/plain": [
       "array([[-0.78, -0.87, -0.95, -1.33,  0.38,  0.07,  0.29,  1.21, -0.6 ,\n",
       "         1.15,  5.09, -0.12],\n",
       "       [ 1.01,  1.28, -0.47, -0.88,  0.38,  0.67, -0.44,  0.52,  0.37,\n",
       "        -0.46, -0.44, -0.12],\n",
       "       [-0.4 , -0.07,  1.45, -1.22,  1.23,  0.67, -4.09,  1.21, -0.6 ,\n",
       "        -0.72,  0.25, -0.12],\n",
       "       [ 1.31,  1.28,  0.01,  0.26,  0.95,  0.47, -0.07,  1.9 , -1.08,\n",
       "        -0.46, -0.44, -0.12],\n",
       "       [ 1.49,  0.33, -0.95,  0.83,  1.23, -0.93,  0.29,  1.21, -0.6 ,\n",
       "        -0.46, -0.44, -0.12]])"
      ]
     },
     "execution_count": 184,
     "metadata": {},
     "output_type": "execute_result"
    }
   ],
   "source": [
    "X = preprocessing.StandardScaler().fit(X).transform(X.astype(float))\n",
    "X[0:5]"
   ]
  },
  {
   "cell_type": "markdown",
   "metadata": {},
   "source": [
    "## Train/Test dataset"
   ]
  },
  {
   "cell_type": "markdown",
   "metadata": {},
   "source": [
    "We split our dataset into train and test set:"
   ]
  },
  {
   "cell_type": "code",
   "execution_count": 185,
   "metadata": {},
   "outputs": [
    {
     "name": "stdout",
     "output_type": "stream",
     "text": [
      "Train set: (8317, 12) (8317,)\n",
      "Test set: (2080, 12) (2080,)\n"
     ]
    }
   ],
   "source": [
    "from sklearn.model_selection import train_test_split\n",
    "X_train, X_test, y_train, y_test = train_test_split( X, y, test_size=0.2, random_state=4)\n",
    "print ('Train set:', X_train.shape,  y_train.shape)\n",
    "print ('Test set:', X_test.shape,  y_test.shape)"
   ]
  },
  {
   "cell_type": "markdown",
   "metadata": {},
   "source": [
    "# Modeling"
   ]
  },
  {
   "cell_type": "markdown",
   "metadata": {},
   "source": [
    "KNN model"
   ]
  },
  {
   "cell_type": "code",
   "execution_count": 188,
   "metadata": {},
   "outputs": [
    {
     "data": {
      "image/png": "[encoded data removed]",
      "text/plain": [
       "<Figure size 432x288 with 1 Axes>"
      ]
     },
     "metadata": {
      "needs_background": "light"
     },
     "output_type": "display_data"
    },
    {
     "name": "stdout",
     "output_type": "stream",
     "text": [
      "The best accuracy was with 0.8980769230769231 with k= 13\n"
     ]
    }
   ],
   "source": [
    "Ks = 20\n",
    "mean_acc = np.zeros((Ks-1))\n",
    "std_acc = np.zeros((Ks-1))\n",
    "ConfustionMx = [];\n",
    "for n in range(1,Ks):\n",
    "    \n",
    "    #Train Model and Predict  \n",
    "    neigh = KNeighborsClassifier(n_neighbors = n).fit(X_train,y_train)\n",
    "    y_predict=neigh.predict(X_test)\n",
    "    mean_acc[n-1] = metrics.accuracy_score(y_test, y_predict)\n",
    "\n",
    "    \n",
    "    std_acc[n-1]=np.std(y_predict==y_test)/np.sqrt(y_predict.shape[0])\n",
    "\n",
    "mean_acc\n",
    "\n",
    "plt.plot(range(1,Ks),mean_acc,'g')\n",
    "plt.fill_between(range(1,Ks),mean_acc - 1 * std_acc,mean_acc + 1 * std_acc, alpha=0.10)\n",
    "plt.legend(('Accuracy ', '+/- 3xstd'))\n",
    "plt.ylabel('Accuracy ')\n",
    "plt.xlabel('Number of Nabors (K)')\n",
    "plt.tight_layout()\n",
    "plt.show()\n",
    "print( \"The best accuracy was with\", mean_acc.max(), \"with k=\", mean_acc.argmax()+1) "
   ]
  },
  {
   "cell_type": "code",
   "execution_count": 189,
   "metadata": {},
   "outputs": [
    {
     "name": "stdout",
     "output_type": "stream",
     "text": [
      "[[   0    2   23]\n",
      " [   0    0  190]\n",
      " [   0    1 1864]]\n"
     ]
    },
    {
     "data": {
      "text/plain": [
       "0.8961538461538462"
      ]
     },
     "execution_count": 189,
     "metadata": {},
     "output_type": "execute_result"
    }
   ],
   "source": [
    "from sklearn.metrics import confusion_matrix, accuracy_score\n",
    "cm = confusion_matrix(y_test, y_predict)\n",
    "print(cm)\n",
    "accuracy_score(y_test, y_predict)"
   ]
  },
  {
   "cell_type": "markdown",
   "metadata": {},
   "source": [
    "Decision Tree Classification\n",
    "\n"
   ]
  },
  {
   "cell_type": "code",
   "execution_count": 190,
   "metadata": {},
   "outputs": [
    {
     "data": {
      "text/plain": [
       "DecisionTreeClassifier(criterion='entropy', max_depth=4)"
      ]
     },
     "execution_count": 190,
     "metadata": {},
     "output_type": "execute_result"
    }
   ],
   "source": [
    "classifierTree = DecisionTreeClassifier(criterion=\"entropy\", max_depth = 4)\n",
    "classifierTree # it shows the default parameters"
   ]
  },
  {
   "cell_type": "code",
   "execution_count": 191,
   "metadata": {},
   "outputs": [
    {
     "data": {
      "text/plain": [
       "DecisionTreeClassifier(criterion='entropy', max_depth=4)"
      ]
     },
     "execution_count": 191,
     "metadata": {},
     "output_type": "execute_result"
    }
   ],
   "source": [
    "classifierTree.fit(X_train,y_train)"
   ]
  },
  {
   "cell_type": "code",
   "execution_count": 192,
   "metadata": {},
   "outputs": [
    {
     "name": "stdout",
     "output_type": "stream",
     "text": [
      "[[   0    0   25]\n",
      " [   0    4  186]\n",
      " [   2    0 1863]]\n"
     ]
    },
    {
     "data": {
      "text/plain": [
       "0.8975961538461539"
      ]
     },
     "execution_count": 192,
     "metadata": {},
     "output_type": "execute_result"
    }
   ],
   "source": [
    "# Predicting the Test set results\n",
    "y_predict = classifierTree.predict(X_test)\n",
    "from sklearn.metrics import confusion_matrix,  accuracy_score\n",
    "cm = confusion_matrix(y_test, y_predict)\n",
    "print(cm)\n",
    "accuracy_score(y_test, y_predict)\n",
    "\n"
   ]
  },
  {
   "cell_type": "code",
   "execution_count": 193,
   "metadata": {},
   "outputs": [
    {
     "name": "stdout",
     "output_type": "stream",
     "text": [
      "[3 3 3 3 3]\n",
      "[3 3 3 3 2]\n"
     ]
    }
   ],
   "source": [
    "print (predTree [0:5])\n",
    "print (y_test [0:5])"
   ]
  },
  {
   "cell_type": "markdown",
   "metadata": {},
   "source": [
    "Support Vector Machine(SVC)"
   ]
  },
  {
   "cell_type": "code",
   "execution_count": 194,
   "metadata": {},
   "outputs": [
    {
     "data": {
      "text/plain": [
       "SVC(kernel='linear', random_state=0)"
      ]
     },
     "execution_count": 194,
     "metadata": {},
     "output_type": "execute_result"
    }
   ],
   "source": [
    "from sklearn.svm import SVC\n",
    "classifier = SVC(kernel = 'linear', random_state = 0)\n",
    "classifier.fit(X_train, y_train)"
   ]
  },
  {
   "cell_type": "code",
   "execution_count": 195,
   "metadata": {},
   "outputs": [
    {
     "data": {
      "text/plain": [
       "array([3, 3, 3, 3, 3], dtype=int64)"
      ]
     },
     "execution_count": 195,
     "metadata": {},
     "output_type": "execute_result"
    }
   ],
   "source": [
    "y_predict = clf.predict(X_test)\n",
    "y_predict [0:5]"
   ]
  },
  {
   "cell_type": "code",
   "execution_count": 196,
   "metadata": {},
   "outputs": [
    {
     "name": "stdout",
     "output_type": "stream",
     "text": [
      "[[   0    0   25]\n",
      " [   0    0  190]\n",
      " [   0    0 1865]]\n"
     ]
    },
    {
     "data": {
      "text/plain": [
       "0.8966346153846154"
      ]
     },
     "execution_count": 196,
     "metadata": {},
     "output_type": "execute_result"
    }
   ],
   "source": [
    "from sklearn.metrics import confusion_matrix, accuracy_score\n",
    "cm = confusion_matrix(y_test, y_predict)\n",
    "print(cm)\n",
    "accuracy_score(y_test, y_predict)"
   ]
  },
  {
   "cell_type": "markdown",
   "metadata": {},
   "source": [
    "Logistic Regression with Scikit-learn"
   ]
  },
  {
   "cell_type": "code",
   "execution_count": 197,
   "metadata": {},
   "outputs": [
    {
     "data": {
      "text/plain": [
       "LogisticRegression(C=0.01, solver='liblinear')"
      ]
     },
     "execution_count": 197,
     "metadata": {},
     "output_type": "execute_result"
    }
   ],
   "source": [
    "from sklearn.linear_model import LogisticRegression\n",
    "from sklearn.metrics import confusion_matrix\n",
    "LR = LogisticRegression(C=0.01, solver='liblinear').fit(X_train,y_train)\n",
    "LR"
   ]
  },
  {
   "cell_type": "code",
   "execution_count": 198,
   "metadata": {},
   "outputs": [
    {
     "data": {
      "text/plain": [
       "array([3, 3, 3, ..., 3, 3, 3], dtype=int64)"
      ]
     },
     "execution_count": 198,
     "metadata": {},
     "output_type": "execute_result"
    }
   ],
   "source": [
    "y_predict = classifier.predict(X_test)\n",
    "y_predict"
   ]
  },
  {
   "cell_type": "code",
   "execution_count": 199,
   "metadata": {},
   "outputs": [
    {
     "name": "stdout",
     "output_type": "stream",
     "text": [
      "[[   0    0   25]\n",
      " [   0    0  190]\n",
      " [   0    0 1865]]\n"
     ]
    },
    {
     "data": {
      "text/plain": [
       "0.8966346153846154"
      ]
     },
     "execution_count": 199,
     "metadata": {},
     "output_type": "execute_result"
    }
   ],
   "source": [
    "from sklearn.metrics import confusion_matrix, accuracy_score\n",
    "cm = confusion_matrix(y_test, y_predict)\n",
    "print(cm)\n",
    "accuracy_score(y_test, y_predict)"
   ]
  },
  {
   "cell_type": "markdown",
   "metadata": {},
   "source": [
    "Random Forest Classification\n",
    "\n"
   ]
  },
  {
   "cell_type": "code",
   "execution_count": 200,
   "metadata": {},
   "outputs": [
    {
     "data": {
      "text/plain": [
       "RandomForestClassifier(criterion='entropy', n_estimators=10, random_state=0)"
      ]
     },
     "execution_count": 200,
     "metadata": {},
     "output_type": "execute_result"
    }
   ],
   "source": [
    "from sklearn.ensemble import RandomForestClassifier\n",
    "classifier = RandomForestClassifier(n_estimators = 10, criterion = 'entropy', random_state = 0)\n",
    "classifier.fit(X_train, y_train)\n"
   ]
  },
  {
   "cell_type": "code",
   "execution_count": 201,
   "metadata": {},
   "outputs": [
    {
     "data": {
      "text/plain": [
       "array([3, 3, 3, ..., 3, 3, 3], dtype=int64)"
      ]
     },
     "execution_count": 201,
     "metadata": {},
     "output_type": "execute_result"
    }
   ],
   "source": [
    "y_predict = classifier.predict(X_test)\n",
    "y_predict"
   ]
  },
  {
   "cell_type": "code",
   "execution_count": 202,
   "metadata": {},
   "outputs": [
    {
     "name": "stdout",
     "output_type": "stream",
     "text": [
      "[[   0    6   19]\n",
      " [   2   36  152]\n",
      " [   1   45 1819]]\n"
     ]
    },
    {
     "data": {
      "text/plain": [
       "0.8918269230769231"
      ]
     },
     "execution_count": 202,
     "metadata": {},
     "output_type": "execute_result"
    }
   ],
   "source": [
    "from sklearn.metrics import confusion_matrix ,  accuracy_score\n",
    "cm = confusion_matrix(y_test, y_predict)\n",
    "print(cm)\n",
    "accuracy_score(y_test, y_predict)"
   ]
  },
  {
   "cell_type": "code",
   "execution_count": null,
   "metadata": {},
   "outputs": [],
   "source": []
  }
 ],
 "metadata": {
  "kernelspec": {
   "display_name": "Python 3",
   "language": "python",
   "name": "python3"
  },
  "language_info": {
   "codemirror_mode": {
    "name": "ipython",
    "version": 3
   },
   "file_extension": ".py",
   "mimetype": "text/x-python",
   "name": "python",
   "nbconvert_exporter": "python",
   "pygments_lexer": "ipython3",
   "version": "3.8.3"
  }
 },
 "nbformat": 4,
 "nbformat_minor": 4
}
